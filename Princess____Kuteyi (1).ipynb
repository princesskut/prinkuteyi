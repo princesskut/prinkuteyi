{
 "cells": [
  {
   "cell_type": "code",
   "execution_count": null,
   "id": "0ed368bd",
   "metadata": {},
   "outputs": [],
   "source": [
    "#import the data set and used the string command to see the structure\n",
    "> diabetes <- read_csv(\"Downloads/diabetes.csv\")\n",
    "> View(diabetes)\n",
    "> str(diabetes)"
   ]
  },
  {
   "cell_type": "code",
   "execution_count": null,
   "id": "daee7cd4",
   "metadata": {},
   "outputs": [],
   "source": [
    "spec_tbl_df [768 × 9] (S3: spec_tbl_df/tbl_df/tbl/data.frame)\n",
    " $ Pregnancies             : num [1:768] 6 1 8 1 0 5 3 10 2 8 ...\n",
    " $ Glucose                 : num [1:768] 148 85 183 89 137 116 78 115 197 125 ...\n",
    " $ BloodPressure           : num [1:768] 72 66 64 66 40 74 50 0 70 96 ...\n",
    " $ SkinThickness           : num [1:768] 35 29 0 23 35 0 32 0 45 0 ...\n",
    " $ Insulin                 : num [1:768] 0 0 0 94 168 0 88 0 543 0 ...\n",
    " $ BMI                     : num [1:768] 33.6 26.6 23.3 28.1 43.1 25.6 31 35.3 30.5 0 ...\n",
    " $ DiabetesPedigreeFunction: num [1:768] 0.627 0.351 0.672 0.167 2.288 ...\n",
    " $ Age                     : num [1:768] 50 31 32 21 33 30 26 29 53 54 ...\n",
    " $ Outcome                 : num [1:768] 1 0 1 0 1 0 1 0 1 1 ...\n",
    " - attr(*, \"spec\")=\n",
    "  .. cols(\n",
    "  ..   Pregnancies = col_double(),\n",
    "  ..   Glucose = col_double(),\n",
    "  ..   BloodPressure = col_double(),\n",
    "  ..   SkinThickness = col_double(),\n",
    "  ..   Insulin = col_double(),\n",
    "  ..   BMI = col_double(),\n",
    "  ..   DiabetesPedigreeFunction = col_double(),\n",
    "  ..   Age = col_double(),\n",
    "  ..   Outcome = col_double()\n",
    "  .. )\n",
    " - attr(*, \"problems\")=<externalptr> "
   ]
  },
  {
   "cell_type": "code",
   "execution_count": null,
   "id": "44d49b15",
   "metadata": {},
   "outputs": [],
   "source": [
    "#creating a table view of pregancies of the patients\n",
    "> table(diabetes$Pregnancies)"
   ]
  },
  {
   "cell_type": "code",
   "execution_count": null,
   "id": "fe405f0e",
   "metadata": {},
   "outputs": [],
   "source": [
    " 0   1   2   3   4   5   6   7   8   9  10  11  12  13 \n",
    "111 135 103  75  68  57  50  45  38  28  24  11   9  10 \n",
    " 14  15  17 \n",
    "  2   1   1 "
   ]
  },
  {
   "cell_type": "code",
   "execution_count": null,
   "id": "65a5de90",
   "metadata": {},
   "outputs": [],
   "source": [
    "> summary(diabetes$Glucose)"
   ]
  },
  {
   "cell_type": "code",
   "execution_count": null,
   "id": "5eb30763",
   "metadata": {},
   "outputs": [],
   "source": [
    "Min. 1st Qu.  Median    Mean 3rd Qu.    Max. \n",
    "0.0    99.0   117.0   120.9   140.2   199.0"
   ]
  },
  {
   "cell_type": "code",
   "execution_count": null,
   "id": "56854712",
   "metadata": {},
   "outputs": [],
   "source": [
    "table(diabetes$Outcome)"
   ]
  },
  {
   "cell_type": "code",
   "execution_count": null,
   "id": "4a328ab4",
   "metadata": {},
   "outputs": [],
   "source": [
    "  0   1 \n",
    "500 268"
   ]
  },
  {
   "cell_type": "markdown",
   "id": "5c6b23f1",
   "metadata": {},
   "source": [
    "I used the table command to put the outcome in the two categories that they\n",
    "fell into. According to the table, 500 of the patients do not have diabetes and 268 actually have diabetes. "
   ]
  },
  {
   "cell_type": "code",
   "execution_count": null,
   "id": "1bb94230",
   "metadata": {},
   "outputs": [],
   "source": [
    "# created a sample dataset to be tested on\n",
    "> diabetes_sample <- sample(1000, 900)"
   ]
  },
  {
   "cell_type": "code",
   "execution_count": null,
   "id": "0bb408f7",
   "metadata": {},
   "outputs": [],
   "source": [
    "> diabetes_table <- diabetes[diabetes_sample, ]\n",
    "> diabetes_test <- diabetes[-diabetes_sample, ]"
   ]
  },
  {
   "cell_type": "code",
   "execution_count": null,
   "id": "01711ea1",
   "metadata": {},
   "outputs": [],
   "source": [
    "# used the prop.table command to get the conditional proportions\n",
    "> prop.table(table(diabetes_table$Outcome))"
   ]
  },
  {
   "cell_type": "code",
   "execution_count": null,
   "id": "e30ab1f7",
   "metadata": {},
   "outputs": [],
   "source": [
    "        0         1 \n",
    "0.6452074 0.3547926 "
   ]
  },
  {
   "cell_type": "code",
   "execution_count": null,
   "id": "ec6a7127",
   "metadata": {},
   "outputs": [],
   "source": [
    "# turned the data set into a factor for it to work in c.50\n",
    "y <- as.factor(diabetes_table)"
   ]
  },
  {
   "cell_type": "code",
   "execution_count": null,
   "id": "b9b56f2d",
   "metadata": {},
   "outputs": [],
   "source": [
    "> diabetes_model <- C5.0(diabetes_table[-9], y)\n",
    "> summary(diabetes_model)"
   ]
  },
  {
   "cell_type": "code",
   "execution_count": null,
   "id": "ed9acd4a",
   "metadata": {},
   "outputs": [],
   "source": [
    "Call:\n",
    "C5.0.default(x = diabetes_table[-9], y = y)\n",
    "\n",
    "\n",
    "C5.0 [Release 2.07 GPL Edition]  \tMon May 09 11:55:41 2022\n",
    "-------------------------------\n",
    "\n",
    "Class specified by attribute `outcome'\n",
    "*** ignoring cases with bad or unknown class\n",
    "\n",
    "Read 699 cases (9 attributes) from undefined.data\n",
    "\n",
    "Decision tree:\n",
    "\n",
    "Glucose <= 127:\n",
    ":...Age <= 28: 0 (244/20)\n",
    ":   Age > 28:\n",
    ":   :...BMI <= 26.8: 0 (38/2)\n",
    ":       BMI > 26.8:\n",
    ":       :...Glucose <= 99: 0 (46/7)\n",
    ":           Glucose > 99:\n",
    ":           :...DiabetesPedigreeFunction <= 0.561: 0 (78/31)\n",
    ":               DiabetesPedigreeFunction > 0.561: 1 (33/8)\n",
    "Glucose > 127:\n",
    ":...BMI <= 29.8:\n",
    "    :...Glucose <= 145: 0 (36/6)\n",
    "    :   Glucose > 145:\n",
    "    :   :...Age <= 61: 1 (26/10)\n",
    "    :       Age > 61: 0 (4)\n",
    "    BMI > 29.8:\n",
    "    :...Glucose > 155: 1 (88/11)\n",
    "        Glucose <= 155:\n",
    "        :...BloodPressure <= 61: 1 (15/1)\n",
    "            BloodPressure > 61:\n",
    "            :...Age <= 30: 0 (38/13)\n",
    "                Age > 30: 1 (53/16)\n",
    "\n",
    "\n",
    "Evaluation on training data (699 cases):\n",
    "\n",
    "\t    Decision Tree   \n",
    "\t  ----------------  \n",
    "\t  Size      Errors  \n",
    "\n",
    "\t    12  125(17.9%)   <<\n",
    "\n",
    "\n",
    "\t   (a)   (b)    <-classified as\n",
    "\t  ----  ----\n",
    "\t   405    46    (a): class 0\n",
    "\t    79   169    (b): class 1\n",
    "\n",
    "\n",
    "\tAttribute usage:\n",
    "\n",
    "\t100.00%\tGlucose\n",
    "\t 80.11%\tAge\n",
    "\t 65.09%\tBMI\n",
    "\t 15.88%\tDiabetesPedigreeFunction\n",
    "\t 15.16%\tBloodPressure\n",
    "\n",
    "\n",
    "Time: 0.0 secs"
   ]
  },
  {
   "cell_type": "markdown",
   "id": "74eff079",
   "metadata": {},
   "source": [
    "C5.0 algorithm is performed without any boosting. 699 cases are read and all 9 attributes are also taking into account. Only one decision tree is created from this model. Only glucose is completely used a hundred percent. Also, all of the attributes although included were not all used in the run. The error percentage is 17.9%. The error percentage could possibly decrease as more trees are added and boosting is added. Also, with more trees included, most of the 9 attributes will probably be utilized as well. The false positive and negatives that are classified are a lot lower than the true positives and negatives just from observing the classification. "
   ]
  },
  {
   "cell_type": "code",
   "execution_count": null,
   "id": "0116f172",
   "metadata": {},
   "outputs": [],
   "source": [
    "> CrossTable(diabetes_test$Outcome, diabetes_pred, \n",
    "+ prop.chisq = FALSE, prop.c = FALSE,\n",
    "+ prop.r = FALSE, dnn = c('Actual Outcome', 'Predit Outcome'))"
   ]
  },
  {
   "cell_type": "code",
   "execution_count": null,
   "id": "ed115155",
   "metadata": {},
   "outputs": [],
   "source": [
    " Cell Contents\n",
    "|-------------------------|\n",
    "|                       N |\n",
    "|         N / Table Total |\n",
    "|-------------------------|\n",
    "\n",
    " \n",
    "Total Observations in Table:  69 \n",
    "\n",
    " \n",
    "               | Predit Outcome \n",
    "Actual Outcome |         0 |         1 | Row Total | \n",
    "---------------|-----------|-----------|-----------|\n",
    "             0 |        42 |         7 |        49 | \n",
    "               |     0.609 |     0.101 |           | \n",
    "---------------|-----------|-----------|-----------|\n",
    "             1 |         9 |        11 |        20 | \n",
    "               |     0.130 |     0.159 |           | \n",
    "---------------|-----------|-----------|-----------|\n",
    "  Column Total |        51 |        18 |        69 | \n",
    "---------------|-----------|-----------|-----------|"
   ]
  },
  {
   "cell_type": "markdown",
   "id": "2078d209",
   "metadata": {},
   "source": [
    "The true amount of people without diabetes are 42 which means those people were correctly predicted as not having diabetes. The false amount of people predicted to not have diabetes is 9 which means that those 9 people were predicted to not have diabetes but actually have it. The false amount of people that were predicted with diabetes are 7, which means these people were predicted to have diabetes but actually do not. 11 people were predicted to actually have diabetes and actually do have it."
   ]
  },
  {
   "cell_type": "code",
   "execution_count": null,
   "id": "bf21d671",
   "metadata": {},
   "outputs": [],
   "source": [
    "> y1 <- as.factor(diabetes_table$Outcome)\n",
    "> diabetes_boost1 <- C5.0(diabetes_table[-9], y1, trials = 10)\n",
    "> diabetes_boost1"
   ]
  },
  {
   "cell_type": "code",
   "execution_count": null,
   "id": "1ad282c5",
   "metadata": {},
   "outputs": [],
   "source": [
    "Call:\n",
    "C5.0.default(x = diabetes_table[-9], y = y1, trials\n",
    " = 10)\n",
    "\n",
    "Classification Tree\n",
    "Number of samples: 900 \n",
    "Number of predictors: 8 \n",
    "\n",
    "Number of boosting iterations: 10 \n",
    "Average tree size: 8.8 \n",
    "\n",
    "Non-standard options: attempt to group attributes"
   ]
  },
  {
   "cell_type": "markdown",
   "id": "77681f53",
   "metadata": {},
   "source": [
    "The C5.0 algorithm is being used to create classification trees. Boosting has been added to the C5.0 algorithm. Boosting is explained as the notion that by combining a number of weak performing learners, you can create a team that is much stronger than any of the learners alone. Each of the models has a unique set of strengths and weaknesses, and may be better or worse at certain problems. This model is has 10 boosting iterations added to it. The average size of each these trees is 8.8. "
   ]
  },
  {
   "cell_type": "code",
   "execution_count": null,
   "id": "599c3fe3",
   "metadata": {},
   "outputs": [],
   "source": [
    "> summary(diabetes_boost1)"
   ]
  },
  {
   "cell_type": "code",
   "execution_count": null,
   "id": "47127d8a",
   "metadata": {},
   "outputs": [],
   "source": [
    "Call:\n",
    "C5.0.default(x = diabetes_table[-9], y = y1, trials\n",
    " = 10)\n",
    "\n",
    "\n",
    "C5.0 [Release 2.07 GPL Edition]  \tThu May 12 12:06:27 2022\n",
    "-------------------------------\n",
    "\n",
    "Class specified by attribute `outcome'\n",
    "*** ignoring cases with bad or unknown class\n",
    "\n",
    "Read 699 cases (9 attributes) from undefined.data\n",
    "\n",
    "-----  Trial 0:  -----\n",
    "\n",
    "Decision tree:\n",
    "\n",
    "Glucose <= 127:\n",
    ":...Age <= 28: 0 (244/20)\n",
    ":   Age > 28:\n",
    ":   :...BMI <= 26.8: 0 (38/2)\n",
    ":       BMI > 26.8:\n",
    ":       :...Glucose <= 99: 0 (46/7)\n",
    ":           Glucose > 99:\n",
    ":           :...DiabetesPedigreeFunction <= 0.561: 0 (78/31)\n",
    ":               DiabetesPedigreeFunction > 0.561: 1 (33/8)\n",
    "Glucose > 127:\n",
    ":...BMI <= 29.8:\n",
    "    :...Glucose <= 145: 0 (36/6)\n",
    "    :   Glucose > 145:\n",
    "    :   :...Age <= 61: 1 (26/10)\n",
    "    :       Age > 61: 0 (4)\n",
    "    BMI > 29.8:\n",
    "    :...Glucose > 155: 1 (88/11)\n",
    "        Glucose <= 155:\n",
    "        :...BloodPressure <= 61: 1 (15/1)\n",
    "            BloodPressure > 61:\n",
    "            :...Age <= 30: 0 (38/13)\n",
    "                Age > 30: 1 (53/16)\n",
    "\n",
    "-----  Trial 1:  -----\n",
    "\n",
    "Decision tree:\n",
    "\n",
    "Glucose <= 99: 0 (153.1/22.8)\n",
    "Glucose > 99:\n",
    ":...Glucose > 165: 1 (69.9/16.8)\n",
    "    Glucose <= 165:\n",
    "    :...BMI <= 26.3: 0 (76.3/11.9)\n",
    "        BMI > 26.3:\n",
    "        :...Pregnancies > 6: 1 (99.7/36.2)\n",
    "            Pregnancies <= 6:\n",
    "            :...SkinThickness <= 0: 1 (90.4/38.8)\n",
    "                SkinThickness > 0:\n",
    "                :...Age <= 24: 0 (65.3/15.7)\n",
    "                    Age > 24:\n",
    "                    :...BMI <= 48.3: 0 (136.9/59.9)\n",
    "                        BMI > 48.3: 1 (7.3)\n",
    "\n",
    "-----  Trial 2:  -----\n",
    "\n",
    "Decision tree:\n",
    "\n",
    "BMI <= 29.8: 0 (234.9/60)\n",
    "BMI > 29.8:\n",
    ":...Glucose <= 154: 0 (381.1/179.3)\n",
    "    Glucose > 154: 1 (83/24.7)\n",
    "\n",
    "-----  Trial 3:  -----\n",
    "\n",
    "Decision tree:\n",
    "\n",
    "Glucose > 106:\n",
    ":...DiabetesPedigreeFunction <= 0.201: 0 (70/23.2)\n",
    ":   DiabetesPedigreeFunction > 0.201:\n",
    ":   :...BMI <= 27.8: 0 (84/36)\n",
    ":       BMI > 27.8: 1 (343.4/129.6)\n",
    "Glucose <= 106:\n",
    ":...BMI <= 27.5: 0 (50)\n",
    "    BMI > 27.5:\n",
    "    :...Age <= 25: 0 (49.2/7.8)\n",
    "        Age > 25:\n",
    "        :...DiabetesPedigreeFunction <= 0.46: 0 (56.5/19.7)\n",
    "            DiabetesPedigreeFunction > 0.46: 1 (45.9/14.6)\n",
    "\n",
    "-----  Trial 4:  -----\n",
    "\n",
    "Decision tree:\n",
    "\n",
    "Glucose <= 99:\n",
    ":...Age <= 23: 0 (34.5)\n",
    ":   Age > 23:\n",
    ":   :...Glucose <= 0: 1 (5.2)\n",
    ":       Glucose > 0:\n",
    ":       :...Insulin <= 87: 0 (66.2/12.7)\n",
    ":           Insulin > 87: 1 (17.4/4.7)\n",
    "Glucose > 99:\n",
    ":...Age <= 27:\n",
    "    :...Glucose <= 127: 0 (101.9/27)\n",
    "    :   Glucose > 127:\n",
    "    :   :...DiabetesPedigreeFunction <= 0.315: 0 (29.9/8.1)\n",
    "    :       DiabetesPedigreeFunction > 0.315: 1 (57.1/17)\n",
    "    Age > 27:\n",
    "    :...Age > 61: 0 (19.4/4)\n",
    "        Age <= 61:\n",
    "        :...Insulin > 142: 1 (95.3/28.9)\n",
    "            Insulin <= 142:\n",
    "            :...BloodPressure <= 74: 1 (140.3/54.7)\n",
    "                BloodPressure > 74:\n",
    "                :...BloodPressure <= 95: 0 (114.9/43.4)\n",
    "                    BloodPressure > 95: 1 (17.1/5)\n",
    "\n",
    "-----  Trial 5:  -----\n",
    "\n",
    "Decision tree:\n",
    "\n",
    "Glucose <= 99: 0 (113.1/30)\n",
    "Glucose > 99:\n",
    ":...Pregnancies > 7: 1 (109.1/42.5)\n",
    "    Pregnancies <= 7:\n",
    "    :...BloodPressure > 84: 0 (80/34.8)\n",
    "        BloodPressure <= 84:\n",
    "        :...Glucose <= 104: 0 (34/14)\n",
    "            Glucose > 104:\n",
    "            :...Glucose <= 161: 0 (313.1/135.9)\n",
    "                Glucose > 161: 1 (49.6/17)\n",
    "\n",
    "-----  Trial 6:  -----\n",
    "\n",
    "Decision tree:\n",
    "\n",
    "BMI <= 26.3: 0 (92.6/21.5)\n",
    "BMI > 26.3:\n",
    ":...Age <= 24: 0 (107.4/38.6)\n",
    "    Age > 24:\n",
    "    :...DiabetesPedigreeFunction <= 0.718:\n",
    "        :...Pregnancies <= 9: 1 (334.9/157.4)\n",
    "        :   Pregnancies > 9: 0 (46.6/16.2)\n",
    "        DiabetesPedigreeFunction > 0.718:\n",
    "        :...DiabetesPedigreeFunction <= 1.394: 1 (98.1/24.5)\n",
    "            DiabetesPedigreeFunction > 1.394: 0 (11.4/2.7)\n",
    "\n",
    "-----  Trial 7:  -----\n",
    "\n",
    "Decision tree:\n",
    "\n",
    "Glucose <= 106: 0 (175.3/46)\n",
    "Glucose > 106:\n",
    ":...Glucose > 166: 1 (52.7/10.8)\n",
    "    Glucose <= 166:\n",
    "    :...BMI > 41.5: 1 (58.7/19.5)\n",
    "        BMI <= 41.5:\n",
    "        :...BMI > 38: 0 (46/10.9)\n",
    "            BMI <= 38:\n",
    "            :...Age > 56: 0 (24.8/4.6)\n",
    "                Age <= 56:\n",
    "                :...Age > 41: 1 (73.6/19.3)\n",
    "                    Age <= 41:\n",
    "                    :...DiabetesPedigreeFunction <= 0.845: 0 (227.2/84.9)\n",
    "                        DiabetesPedigreeFunction > 0.845: 1 (26.6/4.7)\n",
    "\n",
    "-----  Trial 8:  -----\n",
    "\n",
    "Decision tree:\n",
    "\n",
    "Glucose <= 99: 0 (85.7/12.1)\n",
    "Glucose > 99:\n",
    ":...BMI <= 26.5: 0 (62.7/13.8)\n",
    "    BMI > 26.5:\n",
    "    :...DiabetesPedigreeFunction <= 0.198: 0 (64/18.1)\n",
    "        DiabetesPedigreeFunction > 0.198:\n",
    "        :...Glucose > 166: 1 (30.6/3)\n",
    "            Glucose <= 166:\n",
    "            :...Age <= 27:\n",
    "                :...Glucose <= 127: 0 (48.6/7.7)\n",
    "                :   Glucose > 127: 1 (72.4/27.1)\n",
    "                Age > 27:\n",
    "                :...BMI > 42.9: 1 (21.7/1.4)\n",
    "                    BMI <= 42.9:\n",
    "                    :...BloodPressure > 84: 0 (45.8/19.2)\n",
    "                        BloodPressure <= 84:\n",
    "                        :...Glucose <= 119: 1 (83.4/18.3)\n",
    "                            Glucose > 119:\n",
    "                            :...Glucose <= 120: 0 (8.2/0.5)\n",
    "                                Glucose > 120: 1 (140.9/59.5)\n",
    "\n",
    "-----  Trial 9:  -----\n",
    "\n",
    "Decision tree:\n",
    "\n",
    "Glucose <= 99: 0 (63.8)\n",
    "Glucose > 99:\n",
    ":...Glucose > 159: 1 (66.7/6.5)\n",
    "    Glucose <= 159:\n",
    "    :...BMI <= 26.5: 0 (40.4)\n",
    "        BMI > 26.5:\n",
    "        :...DiabetesPedigreeFunction <= 0.201: 0 (43.9/6.9)\n",
    "            DiabetesPedigreeFunction > 0.201:\n",
    "            :...Age <= 28:\n",
    "                :...Glucose <= 124: 0 (43.8/3.8)\n",
    "                :   Glucose > 124:\n",
    "                :   :...BloodPressure <= 76: 1 (56.3/21.5)\n",
    "                :       BloodPressure > 76: 0 (41.6/8.3)\n",
    "                Age > 28:\n",
    "                :...BloodPressure > 90: 1 (19.2/1.5)\n",
    "                    BloodPressure <= 90:\n",
    "                    :...DiabetesPedigreeFunction > 0.527:\n",
    "                        :...DiabetesPedigreeFunction <= 1.394: 1 (90.5/24.9)\n",
    "                        :   DiabetesPedigreeFunction > 1.394: 0 (8.3/1.3)\n",
    "                        DiabetesPedigreeFunction <= 0.527:\n",
    "                        :...BloodPressure > 84: 0 (16.1/2.2)\n",
    "                            BloodPressure <= 84:\n",
    "                            :...BMI <= 27.9: 0 (21/4.5)\n",
    "                                BMI > 27.9:\n",
    "                                :...BMI <= 29.3: 1 (7.9)\n",
    "                                    BMI > 29.3:\n",
    "                                    :...BloodPressure <= 66: 1 (32.3/9.7)\n",
    "                                        BloodPressure > 66: 0 (87/37.2)\n",
    "\n",
    "\n",
    "Evaluation on training data (699 cases):\n",
    "\n",
    "Trial\t    Decision Tree   \n",
    "-----\t  ----------------  \n",
    "\t  Size      Errors  \n",
    "\n",
    "   0\t    12  125(17.9%)\n",
    "   1\t     8  156(22.3%)\n",
    "   2\t     3  180(25.8%)\n",
    "   3\t     7  196(28.0%)\n",
    "   4\t    12  175(25.0%)\n",
    "   5\t     6  173(24.7%)\n",
    "   6\t     6  245(35.1%)\n",
    "   7\t     8  141(20.2%)\n",
    "   8\t    11  158(22.6%)\n",
    "   9\t    15  125(17.9%)\n",
    "boost\t         97(13.9%)   <<\n",
    "\n",
    "\n",
    "\t   (a)   (b)    <-classified as\n",
    "\t  ----  ----\n",
    "\t   409    42    (a): class 0\n",
    "\t    55   193    (b): class 1\n",
    "\n",
    "\n",
    "\tAttribute usage:\n",
    "\n",
    "\t100.00%\tGlucose\n",
    "\t100.00%\tBMI\n",
    "\t100.00%\tAge\n",
    "\t 83.69%\tPregnancies\n",
    "\t 82.69%\tDiabetesPedigreeFunction\n",
    "\t 73.53%\tBloodPressure\n",
    "\t 59.66%\tInsulin\n",
    "\t 39.34%\tSkinThickness\n",
    "\n",
    "\n",
    "Time: 0.0 secs"
   ]
  },
  {
   "cell_type": "markdown",
   "id": "88d5dcde",
   "metadata": {},
   "source": [
    "The boosted C5.0 algorithm has been called. 10 trials have been completed. 100% of glucose, BMI, and age were used when creating the trees. The rest of the attributes percentage are also included in the results. There is 13.9% of errors that occurs when the algorithm is boosted versus the 17.9% that occurs before boosting is added. The boosting helped decrease the error amount. Due to the boosting, there is a decrease in the false positives and negatives in the classification. That helps better the model by decreasing the amount of error occurring. "
   ]
  },
  {
   "cell_type": "code",
   "execution_count": null,
   "id": "b227712b",
   "metadata": {},
   "outputs": [],
   "source": [
    "> diabetes_boost_predict10 <- predict(diabetes_boost1, diabetes_test)\n",
    "> CrossTable(diabetes_test$Outcome, diabetes_boost_predict10, \n",
    "+ prop.chisq = FALSE, prop.c = FALSE, prop.r = FALSE, \n",
    "+ dnn = c('Actual Outcome', 'Predicted Outcome'))"
   ]
  },
  {
   "cell_type": "code",
   "execution_count": null,
   "id": "606619c5",
   "metadata": {},
   "outputs": [],
   "source": [
    " Cell Contents\n",
    "|-------------------------|\n",
    "|                       N |\n",
    "|         N / Table Total |\n",
    "|-------------------------|\n",
    "\n",
    " \n",
    "Total Observations in Table:  69 \n",
    "\n",
    " \n",
    "               | Predicted Outcome \n",
    "Actual Outcome |         0 |         1 | Row Total | \n",
    "---------------|-----------|-----------|-----------|\n",
    "             0 |        41 |         8 |        49 | \n",
    "               |     0.594 |     0.116 |           | \n",
    "---------------|-----------|-----------|-----------|\n",
    "             1 |         9 |        11 |        20 | \n",
    "               |     0.130 |     0.159 |           | \n",
    "---------------|-----------|-----------|-----------|\n",
    "  Column Total |        50 |        19 |        69 | \n",
    "---------------|-----------|-----------|-----------|"
   ]
  },
  {
   "cell_type": "markdown",
   "id": "7b8b4a50",
   "metadata": {},
   "source": [
    "This is the boosted table that includes the model that has a decreased error percentage and more attributes used. The true amount of people without diabetes are 41 which means those people were correctly predicted to have diabetes. The false amount of people predicted to not have diabetes is 8 which means that those 8 people were predicted to not have diabetes but actually have it. The false amount of people that were predicted with diabetes are 9, which means these people were predicted to have diabetes but actually do not. 11 people were predicted to actually have diabetes and actually do have it."
   ]
  },
  {
   "cell_type": "code",
   "execution_count": null,
   "id": "706d8fd3",
   "metadata": {},
   "outputs": [],
   "source": [
    "# Accuracy calculation\n",
    "> (11 + 41) / (11 + 41 + 8 + 9)"
   ]
  },
  {
   "cell_type": "code",
   "execution_count": null,
   "id": "467a612a",
   "metadata": {},
   "outputs": [],
   "source": [
    "[1] 0.7536232"
   ]
  },
  {
   "cell_type": "markdown",
   "id": "06d30d1e",
   "metadata": {},
   "source": [
    "The accuracy is the proportion of the correct classifications such as the 41 true women with no diabetes and the 11 true women with diabetes of the overall number of people in the data set. When the calculation is done, 75% of the classifications are correct from the overall dataset. This is a good accuracy result because it is closer to 1 or 100%."
   ]
  },
  {
   "cell_type": "code",
   "execution_count": null,
   "id": "66641e1e",
   "metadata": {},
   "outputs": [],
   "source": [
    "# Error calculation\n",
    "> (8 + 9) / (11 + 41 + 8 + 9)"
   ]
  },
  {
   "cell_type": "code",
   "execution_count": null,
   "id": "f12fe6a6",
   "metadata": {},
   "outputs": [],
   "source": [
    "[1] 0.2463768"
   ]
  },
  {
   "cell_type": "markdown",
   "id": "edee0446",
   "metadata": {},
   "source": [
    "The error calculation shows the amount of incorrect classifications of the overall number of patients. Those are the 8 incorrect classification of patients without diabetes and the 9 incorrect classifications of the patients with diabetes. The error result is pretty low, which is good for this model. "
   ]
  },
  {
   "cell_type": "code",
   "execution_count": null,
   "id": "289500aa",
   "metadata": {},
   "outputs": [],
   "source": [
    "# precision score calculation\n",
    "> precision <- 11 / (11 +8)\n",
    "> precision"
   ]
  },
  {
   "cell_type": "code",
   "execution_count": null,
   "id": "81146623",
   "metadata": {},
   "outputs": [],
   "source": [
    "[1] 0.5789474"
   ]
  },
  {
   "cell_type": "markdown",
   "id": "bc13cea2",
   "metadata": {},
   "source": [
    "The precision is explained as the proportion of positive examples that are truly positive. The precision score is 58% or 0.58, which is a pretty low precision score. A High precision score relates to a low false positive rate but since the precision score isn't too low or too high, this indicates that the precision of the results is not the best but it is more balanced. The lower precision score indicates that there is more possibility of false positives."
   ]
  },
  {
   "cell_type": "code",
   "execution_count": null,
   "id": "d200262f",
   "metadata": {},
   "outputs": [],
   "source": [
    "#recall score calculation\n",
    "> recall <- 11 / (11 + 9)\n",
    "> recall"
   ]
  },
  {
   "cell_type": "code",
   "execution_count": null,
   "id": "ec592f11",
   "metadata": {},
   "outputs": [],
   "source": [
    "[1] 0.55"
   ]
  },
  {
   "cell_type": "markdown",
   "id": "badd58d7",
   "metadata": {},
   "source": [
    "Recall score is the amount of true positive or correct classifications that are actually positive. So, 55% of the results are actually positive. A recall score over .5 is okay and since the recall score is 0.55 or 55%, it is not the best for this model. 50% of the time, the true positives are actually positive which is only half the time that the actual positives are accurately positive. "
   ]
  },
  {
   "cell_type": "code",
   "execution_count": null,
   "id": "abcdd003",
   "metadata": {},
   "outputs": [],
   "source": [
    "# F-1 Score calculation\n",
    "> f1 <- (2 * precision * recall) / (precision + recall)\n",
    "> f1"
   ]
  },
  {
   "cell_type": "code",
   "execution_count": null,
   "id": "a5ed6f29",
   "metadata": {},
   "outputs": [],
   "source": [
    "[1] 0.5641026"
   ]
  },
  {
   "cell_type": "markdown",
   "id": "7b383922",
   "metadata": {},
   "source": [
    "The F measure or score combines and gets the average of the precision and recall. The mean is expressed as rates because precision and recall are expressed as proportions. If the cost of false positives and false negatives are very different, it’s best to look the mean of both the Precision and Recall and give them the same weighting. The F score is .56 or 56%. The higher the F score is, the better it is because it shows you have a low false negative score and a low false positive score. A .564 score shows that there is almost an equal amount of chance that a false positive and a true positive can occur. It is not a good score because it is suppose to be a lot higher than .564 and closer to 1 to make the model more useful. "
   ]
  }
 ],
 "metadata": {
  "kernelspec": {
   "display_name": "Python 3 (ipykernel)",
   "language": "python",
   "name": "python3"
  },
  "language_info": {
   "codemirror_mode": {
    "name": "ipython",
    "version": 3
   },
   "file_extension": ".py",
   "mimetype": "text/x-python",
   "name": "python",
   "nbconvert_exporter": "python",
   "pygments_lexer": "ipython3",
   "version": "3.8.2"
  }
 },
 "nbformat": 4,
 "nbformat_minor": 5
}
